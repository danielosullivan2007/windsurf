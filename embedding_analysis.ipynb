{
 "cells": [
  {
   "cell_type": "markdown",
   "metadata": {},
   "source": [
    "# Casino Game Embeddings Analysis"
   ]
  },
  {
   "cell_type": "code",
   "execution_count": 1,
   "metadata": {},
   "outputs": [
    {
     "name": "stderr",
     "output_type": "stream",
     "text": [
      "/var/folders/zq/wqqn8n8560g60_9fjfw4lddm0000gq/T/ipykernel_18993/1697481469.py:7: DtypeWarning: Columns (11) have mixed types. Specify dtype option on import or set low_memory=False.\n",
      "  df = pd.read_csv('game_embeddings.csv')\n"
     ]
    },
    {
     "name": "stdout",
     "output_type": "stream",
     "text": [
      "3D visualization saved to game_embeddings_3d.html\n"
     ]
    }
   ],
   "source": [
    "import pandas as pd\n",
    "import numpy as np\n",
    "from sklearn.manifold import TSNE\n",
    "import plotly.express as px\n",
    "\n",
    "# Load the embeddings\n",
    "df = pd.read_csv('game_embeddings.csv')\n",
    "\n",
    "# Extract embedding columns (assuming they are the last N columns)\n",
    "embedding_columns = df.columns[-1536:]  # Adjust based on actual embedding dimensions\n",
    "embeddings = df[embedding_columns].values\n",
    "\n",
    "# Reduce dimensionality for visualization\n",
    "tsne = TSNE(n_components=3, random_state=42)\n",
    "embeddings_3d = tsne.fit_transform(embeddings)\n",
    "\n",
    "# Create a DataFrame with the reduced embeddings\n",
    "embedding_df = pd.DataFrame(embeddings_3d, columns=['x', 'y', 'z'])\n",
    "embedding_df['game_name'] = df['Text']  # Assuming 'Text' column contains game names\n",
    "\n",
    "# Create interactive 3D scatter plot\n",
    "fig = px.scatter_3d(\n",
    "    embedding_df,\n",
    "    x='x', y='y', z='z',\n",
    "    hover_data=['game_name'],\n",
    "    title='Casino Game Embeddings Visualization'\n",
    ")\n",
    "\n",
    "fig.write_html('game_embeddings_3d.html')\n",
    "print(\"3D visualization saved to game_embeddings_3d.html\")"
   ]
  }
 ],
 "metadata": {
  "kernelspec": {
   "display_name": "venv",
   "language": "python",
   "name": "python3"
  },
  "language_info": {
   "codemirror_mode": {
    "name": "ipython",
    "version": 3
   },
   "file_extension": ".py",
   "mimetype": "text/x-python",
   "name": "python",
   "nbconvert_exporter": "python",
   "pygments_lexer": "ipython3",
   "version": "3.13.3"
  }
 },
 "nbformat": 4,
 "nbformat_minor": 4
}
